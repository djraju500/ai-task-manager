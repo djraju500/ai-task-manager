{
 "cells": [
  {
   "cell_type": "code",
   "execution_count": 1,
   "id": "f779d106",
   "metadata": {},
   "outputs": [],
   "source": [
    "# ================================================\n",
    "# 1. Imports\n",
    "# ================================================\n",
    "import pandas as pd\n",
    "import joblib\n",
    "from sklearn.model_selection import train_test_split\n",
    "from sklearn.feature_extraction.text import TfidfVectorizer\n",
    "from sklearn.naive_bayes import MultinomialNB\n",
    "from sklearn.svm import LinearSVC\n",
    "from sklearn.metrics import classification_report, confusion_matrix, accuracy_score\n",
    "import seaborn as sns\n",
    "import matplotlib.pyplot as plt\n"
   ]
  },
  {
   "cell_type": "code",
   "execution_count": 2,
   "id": "d73a7bb4",
   "metadata": {},
   "outputs": [
    {
     "data": {
      "text/html": [
       "<div>\n",
       "<style scoped>\n",
       "    .dataframe tbody tr th:only-of-type {\n",
       "        vertical-align: middle;\n",
       "    }\n",
       "\n",
       "    .dataframe tbody tr th {\n",
       "        vertical-align: top;\n",
       "    }\n",
       "\n",
       "    .dataframe thead th {\n",
       "        text-align: right;\n",
       "    }\n",
       "</style>\n",
       "<table border=\"1\" class=\"dataframe\">\n",
       "  <thead>\n",
       "    <tr style=\"text-align: right;\">\n",
       "      <th></th>\n",
       "      <th>task_id</th>\n",
       "      <th>description</th>\n",
       "      <th>deadline</th>\n",
       "      <th>assigned_to</th>\n",
       "      <th>status</th>\n",
       "      <th>priority</th>\n",
       "      <th>category</th>\n",
       "      <th>clean_description</th>\n",
       "    </tr>\n",
       "  </thead>\n",
       "  <tbody>\n",
       "    <tr>\n",
       "      <th>0</th>\n",
       "      <td>T000</td>\n",
       "      <td>Fix login issue on mobile app</td>\n",
       "      <td>2025-07-20</td>\n",
       "      <td>Charlie</td>\n",
       "      <td>Open</td>\n",
       "      <td>High</td>\n",
       "      <td>Bug</td>\n",
       "      <td>fix login issu mobil app</td>\n",
       "    </tr>\n",
       "    <tr>\n",
       "      <th>1</th>\n",
       "      <td>T001</td>\n",
       "      <td>Page crashes when submitting form</td>\n",
       "      <td>2025-07-20</td>\n",
       "      <td>Alice</td>\n",
       "      <td>Done</td>\n",
       "      <td>Medium</td>\n",
       "      <td>Bug</td>\n",
       "      <td>page crash submit form</td>\n",
       "    </tr>\n",
       "    <tr>\n",
       "      <th>2</th>\n",
       "      <td>T002</td>\n",
       "      <td>Fix login issue on mobile app</td>\n",
       "      <td>2025-07-28</td>\n",
       "      <td>Bob</td>\n",
       "      <td>Done</td>\n",
       "      <td>Medium</td>\n",
       "      <td>Bug</td>\n",
       "      <td>fix login issu mobil app</td>\n",
       "    </tr>\n",
       "    <tr>\n",
       "      <th>3</th>\n",
       "      <td>T003</td>\n",
       "      <td>Create user profile section</td>\n",
       "      <td>2025-07-21</td>\n",
       "      <td>Diana</td>\n",
       "      <td>Open</td>\n",
       "      <td>Medium</td>\n",
       "      <td>Feature</td>\n",
       "      <td>creat user profil section</td>\n",
       "    </tr>\n",
       "    <tr>\n",
       "      <th>4</th>\n",
       "      <td>T004</td>\n",
       "      <td>Client call to discuss roadmap</td>\n",
       "      <td>2025-07-19</td>\n",
       "      <td>Bob</td>\n",
       "      <td>Done</td>\n",
       "      <td>Medium</td>\n",
       "      <td>Meeting</td>\n",
       "      <td>client call discuss roadmap</td>\n",
       "    </tr>\n",
       "  </tbody>\n",
       "</table>\n",
       "</div>"
      ],
      "text/plain": [
       "  task_id                        description    deadline assigned_to status  \\\n",
       "0    T000      Fix login issue on mobile app  2025-07-20     Charlie   Open   \n",
       "1    T001  Page crashes when submitting form  2025-07-20       Alice   Done   \n",
       "2    T002      Fix login issue on mobile app  2025-07-28         Bob   Done   \n",
       "3    T003        Create user profile section  2025-07-21       Diana   Open   \n",
       "4    T004     Client call to discuss roadmap  2025-07-19         Bob   Done   \n",
       "\n",
       "  priority category            clean_description  \n",
       "0     High      Bug     fix login issu mobil app  \n",
       "1   Medium      Bug       page crash submit form  \n",
       "2   Medium      Bug     fix login issu mobil app  \n",
       "3   Medium  Feature    creat user profil section  \n",
       "4   Medium  Meeting  client call discuss roadmap  "
      ]
     },
     "execution_count": 2,
     "metadata": {},
     "output_type": "execute_result"
    }
   ],
   "source": [
    "# ================================================\n",
    "# 2. Load Cleaned Dataset\n",
    "# ================================================\n",
    "df = pd.read_csv(\"../data/cleaned_task_data.csv\")\n",
    "df.head()\n"
   ]
  },
  {
   "cell_type": "code",
   "execution_count": 3,
   "id": "79efdc9f",
   "metadata": {},
   "outputs": [
    {
     "data": {
      "text/plain": [
       "['../models/tfidf_vectorizer.pkl']"
      ]
     },
     "execution_count": 3,
     "metadata": {},
     "output_type": "execute_result"
    }
   ],
   "source": [
    "# ================================================\n",
    "# 3. TF-IDF Feature Extraction\n",
    "# ================================================\n",
    "tfidf = TfidfVectorizer()\n",
    "X = tfidf.fit_transform(df[\"clean_description\"])\n",
    "y = df[\"category\"]\n",
    "\n",
    "# Save the vectorizer\n",
    "joblib.dump(tfidf, \"../models/tfidf_vectorizer.pkl\")\n"
   ]
  },
  {
   "cell_type": "code",
   "execution_count": 4,
   "id": "628fc745",
   "metadata": {},
   "outputs": [],
   "source": [
    "# ================================================\n",
    "# 4. Train-Test Split\n",
    "# ================================================\n",
    "X_train, X_test, y_train, y_test = train_test_split(X, y, test_size=0.2, random_state=42)\n"
   ]
  },
  {
   "cell_type": "code",
   "execution_count": 5,
   "id": "00954f46",
   "metadata": {},
   "outputs": [
    {
     "name": "stdout",
     "output_type": "stream",
     "text": [
      "📊 Naive Bayes Classification Report:\n",
      "\n",
      "               precision    recall  f1-score   support\n",
      "\n",
      "          Bug       1.00      1.00      1.00         6\n",
      "Documentation       1.00      1.00      1.00         2\n",
      "      Feature       1.00      1.00      1.00         6\n",
      "      Meeting       1.00      1.00      1.00         6\n",
      "\n",
      "     accuracy                           1.00        20\n",
      "    macro avg       1.00      1.00      1.00        20\n",
      " weighted avg       1.00      1.00      1.00        20\n",
      "\n",
      "✅ Accuracy: 1.0\n"
     ]
    },
    {
     "data": {
      "image/png": "[encoded data removed]",
      "text/plain": [
       "<Figure size 432x288 with 2 Axes>"
      ]
     },
     "metadata": {
      "needs_background": "light"
     },
     "output_type": "display_data"
    },
    {
     "data": {
      "text/plain": [
       "['../models/task_classifier_nb.pkl']"
      ]
     },
     "execution_count": 5,
     "metadata": {},
     "output_type": "execute_result"
    }
   ],
   "source": [
    "# ================================================\n",
    "# 5. Train Naive Bayes Model\n",
    "# ================================================\n",
    "nb_model = MultinomialNB()\n",
    "nb_model.fit(X_train, y_train)\n",
    "\n",
    "# Predict\n",
    "y_pred_nb = nb_model.predict(X_test)\n",
    "\n",
    "# Evaluation\n",
    "print(\"📊 Naive Bayes Classification Report:\\n\")\n",
    "print(classification_report(y_test, y_pred_nb))\n",
    "print(\"✅ Accuracy:\", accuracy_score(y_test, y_pred_nb))\n",
    "\n",
    "# Confusion Matrix\n",
    "sns.heatmap(confusion_matrix(y_test, y_pred_nb), annot=True, fmt='d', cmap=\"Blues\")\n",
    "plt.title(\"Naive Bayes - Confusion Matrix\")\n",
    "plt.show()\n",
    "\n",
    "# Save model\n",
    "joblib.dump(nb_model, \"../models/task_classifier_nb.pkl\")\n"
   ]
  },
  {
   "cell_type": "code",
   "execution_count": 6,
   "id": "a8966b9e",
   "metadata": {},
   "outputs": [
    {
     "name": "stdout",
     "output_type": "stream",
     "text": [
      "📊 SVM Classification Report:\n",
      "\n",
      "               precision    recall  f1-score   support\n",
      "\n",
      "          Bug       1.00      1.00      1.00         6\n",
      "Documentation       1.00      1.00      1.00         2\n",
      "      Feature       1.00      1.00      1.00         6\n",
      "      Meeting       1.00      1.00      1.00         6\n",
      "\n",
      "     accuracy                           1.00        20\n",
      "    macro avg       1.00      1.00      1.00        20\n",
      " weighted avg       1.00      1.00      1.00        20\n",
      "\n",
      "✅ Accuracy: 1.0\n"
     ]
    },
    {
     "data": {
      "image/png": "[encoded data removed]",
      "text/plain": [
       "<Figure size 432x288 with 2 Axes>"
      ]
     },
     "metadata": {
      "needs_background": "light"
     },
     "output_type": "display_data"
    },
    {
     "data": {
      "text/plain": [
       "['../models/task_classifier_svm.pkl']"
      ]
     },
     "execution_count": 6,
     "metadata": {},
     "output_type": "execute_result"
    }
   ],
   "source": [
    "# ================================================\n",
    "# 6. Train SVM Model\n",
    "# ================================================\n",
    "svm_model = LinearSVC()\n",
    "svm_model.fit(X_train, y_train)\n",
    "\n",
    "# Predict\n",
    "y_pred_svm = svm_model.predict(X_test)\n",
    "\n",
    "# Evaluation\n",
    "print(\"📊 SVM Classification Report:\\n\")\n",
    "print(classification_report(y_test, y_pred_svm))\n",
    "print(\"✅ Accuracy:\", accuracy_score(y_test, y_pred_svm))\n",
    "\n",
    "# Confusion Matrix\n",
    "sns.heatmap(confusion_matrix(y_test, y_pred_svm), annot=True, fmt='d', cmap=\"Greens\")\n",
    "plt.title(\"SVM - Confusion Matrix\")\n",
    "plt.show()\n",
    "\n",
    "# Save model\n",
    "joblib.dump(svm_model, \"../models/task_classifier_svm.pkl\")\n"
   ]
  },
  {
   "cell_type": "code",
   "execution_count": null,
   "id": "31aff525",
   "metadata": {},
   "outputs": [],
   "source": []
  },
  {
   "cell_type": "code",
   "execution_count": null,
   "id": "b81ff7a7",
   "metadata": {},
   "outputs": [],
   "source": []
  },
  {
   "cell_type": "code",
   "execution_count": null,
   "id": "b2896711",
   "metadata": {},
   "outputs": [],
   "source": []
  },
  {
   "cell_type": "code",
   "execution_count": null,
   "id": "0c242a6b",
   "metadata": {},
   "outputs": [],
   "source": []
  }
 ],
 "metadata": {
  "kernelspec": {
   "display_name": "Python 3 (ipykernel)",
   "language": "python",
   "name": "python3"
  },
  "language_info": {
   "codemirror_mode": {
    "name": "ipython",
    "version": 3
   },
   "file_extension": ".py",
   "mimetype": "text/x-python",
   "name": "python",
   "nbconvert_exporter": "python",
   "pygments_lexer": "ipython3",
   "version": "3.9.12"
  }
 },
 "nbformat": 4,
 "nbformat_minor": 5
}
