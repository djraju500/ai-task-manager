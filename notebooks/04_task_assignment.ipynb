{
 "cells": [
  {
   "cell_type": "code",
   "execution_count": 28,
   "id": "b72a3d61",
   "metadata": {},
   "outputs": [],
   "source": [
    "# 📌 Intelligent Task Assignment Notebook\n",
    "\n",
    "import pandas as pd\n",
    "import numpy as np\n",
    "from datetime import datetime\n",
    "import random\n",
    "import matplotlib.pyplot as plt\n",
    "import seaborn as sns\n",
    "import joblib\n",
    "\n"
   ]
  },
  {
   "cell_type": "code",
   "execution_count": 29,
   "id": "f2d6ab74",
   "metadata": {},
   "outputs": [],
   "source": [
    "# --------------------------------------------\n",
    "# 1. Load Data & Models\n",
    "# --------------------------------------------\n",
    "df = pd.read_csv(\"../data/task_data.csv\")\n",
    "\n",
    "# Load trained models\n",
    "priority_model = joblib.load(\"../models/priority_predictor_xgb.pkl\")\n",
    "priority_encoder = joblib.load(\"../models/priority_label_encoder.pkl\")\n",
    "vectorizer = joblib.load(\"../models/tfidf_vectorizer.pkl\")\n",
    "\n"
   ]
  },
  {
   "cell_type": "code",
   "execution_count": 30,
   "id": "3008bfbf",
   "metadata": {},
   "outputs": [
    {
     "name": "stdout",
     "output_type": "stream",
     "text": [
      "📊 Initial User Workload:\n",
      "{'Alice': 5, 'Bob': 4, 'Charlie': 5, 'Diana': 0}\n"
     ]
    }
   ],
   "source": [
    "# --------------------------------------------\n",
    "# 2. Simulated Users & Workload\n",
    "# --------------------------------------------\n",
    "users = [\"Alice\", \"Bob\", \"Charlie\", \"Diana\"]\n",
    "user_workload = {user: random.randint(0, 5) for user in users}\n",
    "\n",
    "print(\"📊 Initial User Workload:\")\n",
    "print(user_workload)\n",
    "\n"
   ]
  },
  {
   "cell_type": "code",
   "execution_count": 31,
   "id": "3b988768",
   "metadata": {},
   "outputs": [],
   "source": [
    "# --------------------------------------------\n",
    "# 3. Feature Extraction for Priority Prediction\n",
    "# --------------------------------------------\n",
    "\n",
    "# Use description + category (since title is missing)\n",
    "df['combined_text'] = df['description'] + \" \" + df['category']\n",
    "\n",
    "# Vectorize combined text\n",
    "X_features = vectorizer.transform(df['combined_text'])\n",
    "\n",
    "# Predict and decode priority\n",
    "df['predicted_priority'] = priority_encoder.inverse_transform(priority_model.predict(X_features))\n",
    "\n"
   ]
  },
  {
   "cell_type": "code",
   "execution_count": 32,
   "id": "9a48c154",
   "metadata": {},
   "outputs": [],
   "source": [
    "# --------------------------------------------\n",
    "# 4. Convert Deadlines to datetime\n",
    "# --------------------------------------------\n",
    "df['deadline'] = pd.to_datetime(df['deadline'], errors='coerce')\n",
    "df = df.dropna(subset=['deadline'])\n",
    "\n"
   ]
  },
  {
   "cell_type": "code",
   "execution_count": 33,
   "id": "bdfa89a0",
   "metadata": {},
   "outputs": [],
   "source": [
    "# --------------------------------------------\n",
    "# 5. Task Assignment Logic\n",
    "# --------------------------------------------\n",
    "assignments = []\n",
    "\n",
    "for _, task in df.iterrows():\n",
    "    # Sort users by lowest workload\n",
    "    least_loaded_users = sorted(user_workload.items(), key=lambda x: x[1])\n",
    "    assigned_user = least_loaded_users[0][0]\n",
    "\n",
    "    # Assign task and update workload\n",
    "    user_workload[assigned_user] += 1\n",
    "    assignments.append(assigned_user)\n",
    "\n",
    "df['assigned_to'] = assignments\n",
    "\n"
   ]
  },
  {
   "cell_type": "code",
   "execution_count": 34,
   "id": "2f4d0003",
   "metadata": {},
   "outputs": [
    {
     "name": "stdout",
     "output_type": "stream",
     "text": [
      "\n",
      "✅ Task assignment complete! Here's a preview:\n",
      "                         description predicted_priority   deadline assigned_to\n",
      "0      Fix login issue on mobile app             Medium 2025-07-20       Diana\n",
      "1  Page crashes when submitting form             Medium 2025-07-20       Diana\n",
      "2      Fix login issue on mobile app             Medium 2025-07-28       Diana\n",
      "3        Create user profile section             Medium 2025-07-21       Diana\n",
      "4     Client call to discuss roadmap             Medium 2025-07-19         Bob\n"
     ]
    },
    {
     "name": "stderr",
     "output_type": "stream",
     "text": [
      "C:\\Users\\Admin\\anaconda3\\lib\\site-packages\\seaborn\\_core.py:1485: FutureWarning: unique with argument that is not not a Series, Index, ExtensionArray, or np.ndarray is deprecated and will raise in a future version.\n",
      "  order = pd.unique(vector)\n"
     ]
    },
    {
     "data": {
      "image/png": "[encoded data removed]",
      "text/plain": [
       "<Figure size 432x288 with 1 Axes>"
      ]
     },
     "metadata": {
      "needs_background": "light"
     },
     "output_type": "display_data"
    }
   ],
   "source": [
    "# --------------------------------------------\n",
    "# 6. Save and Show Results\n",
    "# --------------------------------------------\n",
    "df.to_csv(\"../data/assigned_tasks.csv\", index=False)\n",
    "\n",
    "print(\"\\n✅ Task assignment complete! Here's a preview:\")\n",
    "print(df[['description', 'predicted_priority', 'deadline', 'assigned_to']].head())\n",
    "\n",
    "# Plot final workload distribution\n",
    "plt.figure(figsize=(6,4))\n",
    "sns.barplot(x=list(user_workload.keys()), y=list(user_workload.values()), palette=\"coolwarm\")\n",
    "plt.title(\"Final Workload Per User\")\n",
    "plt.xlabel(\"User\")\n",
    "plt.ylabel(\"Number of Tasks Assigned\")\n",
    "plt.tight_layout()\n",
    "plt.show()\n"
   ]
  },
  {
   "cell_type": "code",
   "execution_count": null,
   "id": "0c55c3e7",
   "metadata": {},
   "outputs": [],
   "source": []
  },
  {
   "cell_type": "code",
   "execution_count": null,
   "id": "9c50e839",
   "metadata": {},
   "outputs": [],
   "source": []
  },
  {
   "cell_type": "code",
   "execution_count": null,
   "id": "2fdb8740",
   "metadata": {},
   "outputs": [],
   "source": []
  }
 ],
 "metadata": {
  "kernelspec": {
   "display_name": "Python 3 (ipykernel)",
   "language": "python",
   "name": "python3"
  },
  "language_info": {
   "codemirror_mode": {
    "name": "ipython",
    "version": 3
   },
   "file_extension": ".py",
   "mimetype": "text/x-python",
   "name": "python",
   "nbconvert_exporter": "python",
   "pygments_lexer": "ipython3",
   "version": "3.9.12"
  }
 },
 "nbformat": 4,
 "nbformat_minor": 5
}
