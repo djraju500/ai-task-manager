{
 "cells": [
  {
   "cell_type": "code",
   "execution_count": 19,
   "id": "2a1306df",
   "metadata": {},
   "outputs": [],
   "source": [
    "# 📌 3. Priority Prediction - Model Training\n",
    "\n",
    "import pandas as pd\n",
    "import numpy as np\n",
    "from sklearn.model_selection import train_test_split\n",
    "from sklearn.preprocessing import LabelEncoder\n",
    "from sklearn.feature_extraction.text import TfidfVectorizer\n",
    "from sklearn.naive_bayes import MultinomialNB\n",
    "from sklearn.svm import SVC\n",
    "from xgboost import XGBClassifier\n",
    "from sklearn.metrics import classification_report, accuracy_score, confusion_matrix\n",
    "import seaborn as sns\n",
    "import matplotlib.pyplot as plt\n",
    "import joblib\n",
    "import os\n",
    "\n"
   ]
  },
  {
   "cell_type": "code",
   "execution_count": 20,
   "id": "db76ee50",
   "metadata": {},
   "outputs": [],
   "source": [
    "# --------------------------------------------\n",
    "# 1. Load Task Dataset\n",
    "# --------------------------------------------\n",
    "df = pd.read_csv(\"../data/task_data.csv\")\n",
    "\n",
    "# Fill missing values\n",
    "df['description'] = df['description'].fillna(\"\")\n",
    "df['title'] = df.get('title', \"Task\")\n",
    "df['title'] = df['title'].fillna(\"Task\")\n",
    "\n"
   ]
  },
  {
   "cell_type": "code",
   "execution_count": 21,
   "id": "4cd5ec36",
   "metadata": {},
   "outputs": [],
   "source": [
    "# --------------------------------------------\n",
    "# 2. Combine Text Features\n",
    "# --------------------------------------------\n",
    "df['combined_text'] = df['title'] + \" \" + df['description']\n",
    "\n"
   ]
  },
  {
   "cell_type": "code",
   "execution_count": 22,
   "id": "01cfb83f",
   "metadata": {},
   "outputs": [
    {
     "data": {
      "text/plain": [
       "['../models/tfidf_vectorizer.pkl']"
      ]
     },
     "execution_count": 22,
     "metadata": {},
     "output_type": "execute_result"
    }
   ],
   "source": [
    "# --------------------------------------------\n",
    "# 3. TF-IDF Vectorization\n",
    "# --------------------------------------------\n",
    "vectorizer = TfidfVectorizer(max_features=48)\n",
    "X = vectorizer.fit_transform(df['combined_text'])\n",
    "\n",
    "# Save vectorizer\n",
    "os.makedirs(\"../models\", exist_ok=True)\n",
    "joblib.dump(vectorizer, \"../models/tfidf_vectorizer.pkl\")\n",
    "\n"
   ]
  },
  {
   "cell_type": "code",
   "execution_count": 23,
   "id": "1c5c99a7",
   "metadata": {},
   "outputs": [
    {
     "data": {
      "text/plain": [
       "['../models/priority_label_encoder.pkl']"
      ]
     },
     "execution_count": 23,
     "metadata": {},
     "output_type": "execute_result"
    }
   ],
   "source": [
    "# --------------------------------------------\n",
    "# 4. Encode Priority Labels\n",
    "# --------------------------------------------\n",
    "priority_encoder = LabelEncoder()\n",
    "y = priority_encoder.fit_transform(df['priority'])\n",
    "\n",
    "# Save encoder\n",
    "joblib.dump(priority_encoder, \"../models/priority_label_encoder.pkl\")\n",
    "\n"
   ]
  },
  {
   "cell_type": "code",
   "execution_count": 24,
   "id": "bc7423d0",
   "metadata": {},
   "outputs": [],
   "source": [
    "# --------------------------------------------\n",
    "# 5. Train-Test Split\n",
    "# --------------------------------------------\n",
    "X_train, X_test, y_train, y_test = train_test_split(X, y, test_size=0.2, random_state=42)\n",
    "\n"
   ]
  },
  {
   "cell_type": "code",
   "execution_count": 25,
   "id": "96051877",
   "metadata": {},
   "outputs": [
    {
     "name": "stdout",
     "output_type": "stream",
     "text": [
      "📊 Naive Bayes Report:\n",
      "\n",
      "              precision    recall  f1-score   support\n",
      "\n",
      "           0       0.25      0.17      0.20         6\n",
      "           1       0.50      0.20      0.29         5\n",
      "           2       0.50      0.78      0.61         9\n",
      "\n",
      "    accuracy                           0.45        20\n",
      "   macro avg       0.42      0.38      0.36        20\n",
      "weighted avg       0.42      0.45      0.41        20\n",
      "\n",
      "✅ Accuracy: 0.45\n"
     ]
    },
    {
     "data": {
      "image/png": "[encoded data removed]",
      "text/plain": [
       "<Figure size 432x288 with 2 Axes>"
      ]
     },
     "metadata": {
      "needs_background": "light"
     },
     "output_type": "display_data"
    }
   ],
   "source": [
    "# =============================================\n",
    "# 6. Naive Bayes Classifier\n",
    "# =============================================\n",
    "nb = MultinomialNB()\n",
    "nb.fit(X_train, y_train)\n",
    "y_pred_nb = nb.predict(X_test)\n",
    "\n",
    "print(\"📊 Naive Bayes Report:\\n\")\n",
    "print(classification_report(y_test, y_pred_nb))\n",
    "print(\"✅ Accuracy:\", accuracy_score(y_test, y_pred_nb))\n",
    "\n",
    "# Save model\n",
    "joblib.dump(nb, \"../models/priority_predictor_nb.pkl\")\n",
    "\n",
    "# Plot Confusion Matrix\n",
    "sns.heatmap(confusion_matrix(y_test, y_pred_nb), annot=True, cmap=\"YlOrBr\", fmt='d')\n",
    "plt.title(\"Naive Bayes - Confusion Matrix\")\n",
    "plt.show()\n",
    "\n"
   ]
  },
  {
   "cell_type": "code",
   "execution_count": 26,
   "id": "b13d983f",
   "metadata": {},
   "outputs": [
    {
     "name": "stdout",
     "output_type": "stream",
     "text": [
      "📊 SVM Report:\n",
      "\n",
      "              precision    recall  f1-score   support\n",
      "\n",
      "           0       0.00      0.00      0.00         6\n",
      "           1       0.50      0.20      0.29         5\n",
      "           2       0.47      0.89      0.62         9\n",
      "\n",
      "    accuracy                           0.45        20\n",
      "   macro avg       0.32      0.36      0.30        20\n",
      "weighted avg       0.34      0.45      0.35        20\n",
      "\n",
      "✅ Accuracy: 0.45\n"
     ]
    },
    {
     "data": {
      "image/png": "[encoded data removed]",
      "text/plain": [
       "<Figure size 432x288 with 2 Axes>"
      ]
     },
     "metadata": {
      "needs_background": "light"
     },
     "output_type": "display_data"
    }
   ],
   "source": [
    "# =============================================\n",
    "# 7. Support Vector Machine (SVM)\n",
    "# =============================================\n",
    "svm = SVC(kernel='linear')\n",
    "svm.fit(X_train, y_train)\n",
    "y_pred_svm = svm.predict(X_test)\n",
    "\n",
    "print(\"📊 SVM Report:\\n\")\n",
    "print(classification_report(y_test, y_pred_svm))\n",
    "print(\"✅ Accuracy:\", accuracy_score(y_test, y_pred_svm))\n",
    "\n",
    "# Save model\n",
    "joblib.dump(svm, \"../models/priority_predictor_svm.pkl\")\n",
    "\n",
    "# Plot Confusion Matrix\n",
    "sns.heatmap(confusion_matrix(y_test, y_pred_svm), annot=True, cmap=\"BuPu\", fmt='d')\n",
    "plt.title(\"SVM - Confusion Matrix\")\n",
    "plt.show()\n",
    "\n"
   ]
  },
  {
   "cell_type": "code",
   "execution_count": 27,
   "id": "dae8bae8",
   "metadata": {},
   "outputs": [
    {
     "name": "stderr",
     "output_type": "stream",
     "text": [
      "C:\\Users\\Admin\\anaconda3\\lib\\site-packages\\xgboost\\core.py:158: UserWarning: [12:06:09] WARNING: C:\\buildkite-agent\\builds\\buildkite-windows-cpu-autoscaling-group-i-08cbc0333d8d4aae1-1\\xgboost\\xgboost-ci-windows\\src\\learner.cc:740: \n",
      "Parameters: { \"use_label_encoder\" } are not used.\n",
      "\n",
      "  warnings.warn(smsg, UserWarning)\n"
     ]
    },
    {
     "name": "stdout",
     "output_type": "stream",
     "text": [
      "📊 XGBoost Report:\n",
      "\n",
      "              precision    recall  f1-score   support\n",
      "\n",
      "           0       0.00      0.00      0.00         6\n",
      "           1       0.50      0.20      0.29         5\n",
      "           2       0.47      0.89      0.62         9\n",
      "\n",
      "    accuracy                           0.45        20\n",
      "   macro avg       0.32      0.36      0.30        20\n",
      "weighted avg       0.34      0.45      0.35        20\n",
      "\n",
      "✅ Accuracy: 0.45\n"
     ]
    },
    {
     "data": {
      "image/png": "[encoded data removed]",
      "text/plain": [
       "<Figure size 432x288 with 2 Axes>"
      ]
     },
     "metadata": {
      "needs_background": "light"
     },
     "output_type": "display_data"
    }
   ],
   "source": [
    "# =============================================\n",
    "# 8. XGBoost Classifier (Optional)\n",
    "# =============================================\n",
    "xgb = XGBClassifier(use_label_encoder=False, eval_metric='mlogloss')\n",
    "xgb.fit(X_train, y_train)\n",
    "y_pred_xgb = xgb.predict(X_test)\n",
    "\n",
    "print(\"📊 XGBoost Report:\\n\")\n",
    "print(classification_report(y_test, y_pred_xgb))\n",
    "print(\"✅ Accuracy:\", accuracy_score(y_test, y_pred_xgb))\n",
    "\n",
    "# Save model\n",
    "joblib.dump(xgb, \"../models/priority_predictor_xgb.pkl\")\n",
    "\n",
    "# Plot confusion matrix\n",
    "sns.heatmap(confusion_matrix(y_test, y_pred_xgb), annot=True, cmap=\"YlGn\", fmt='d')\n",
    "plt.title(\"XGBoost - Confusion Matrix\")\n",
    "plt.show()\n"
   ]
  },
  {
   "cell_type": "code",
   "execution_count": null,
   "id": "0720a6fe",
   "metadata": {},
   "outputs": [],
   "source": []
  }
 ],
 "metadata": {
  "kernelspec": {
   "display_name": "Python 3 (ipykernel)",
   "language": "python",
   "name": "python3"
  },
  "language_info": {
   "codemirror_mode": {
    "name": "ipython",
    "version": 3
   },
   "file_extension": ".py",
   "mimetype": "text/x-python",
   "name": "python",
   "nbconvert_exporter": "python",
   "pygments_lexer": "ipython3",
   "version": "3.9.12"
  }
 },
 "nbformat": 4,
 "nbformat_minor": 5
}
