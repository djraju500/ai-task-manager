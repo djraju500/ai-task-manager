{
 "cells": [
  {
   "cell_type": "code",
   "execution_count": 1,
   "id": "5118bdfd",
   "metadata": {},
   "outputs": [
    {
     "name": "stderr",
     "output_type": "stream",
     "text": [
      "[nltk_data] Downloading package punkt to\n",
      "[nltk_data]     C:\\Users\\Admin\\AppData\\Roaming\\nltk_data...\n",
      "[nltk_data]   Unzipping tokenizers\\punkt.zip.\n",
      "[nltk_data] Downloading package stopwords to\n",
      "[nltk_data]     C:\\Users\\Admin\\AppData\\Roaming\\nltk_data...\n",
      "[nltk_data]   Package stopwords is already up-to-date!\n"
     ]
    },
    {
     "data": {
      "text/plain": [
       "True"
      ]
     },
     "execution_count": 1,
     "metadata": {},
     "output_type": "execute_result"
    }
   ],
   "source": [
    "# === 1. Imports ===\n",
    "import pandas as pd\n",
    "import numpy as np\n",
    "import random\n",
    "import os\n",
    "import nltk\n",
    "import matplotlib.pyplot as plt\n",
    "import seaborn as sns\n",
    "import re\n",
    "from nltk.corpus import stopwords\n",
    "from nltk.tokenize import word_tokenize\n",
    "from nltk.stem import PorterStemmer\n",
    "\n",
    "# NLTK downloads\n",
    "nltk.download('punkt')\n",
    "nltk.download('stopwords')\n"
   ]
  },
  {
   "cell_type": "code",
   "execution_count": 2,
   "id": "ba47d8f2",
   "metadata": {},
   "outputs": [
    {
     "name": "stdout",
     "output_type": "stream",
     "text": [
      "Sample data:\n",
      "\n"
     ]
    },
    {
     "data": {
      "text/html": [
       "<div>\n",
       "<style scoped>\n",
       "    .dataframe tbody tr th:only-of-type {\n",
       "        vertical-align: middle;\n",
       "    }\n",
       "\n",
       "    .dataframe tbody tr th {\n",
       "        vertical-align: top;\n",
       "    }\n",
       "\n",
       "    .dataframe thead th {\n",
       "        text-align: right;\n",
       "    }\n",
       "</style>\n",
       "<table border=\"1\" class=\"dataframe\">\n",
       "  <thead>\n",
       "    <tr style=\"text-align: right;\">\n",
       "      <th></th>\n",
       "      <th>task_id</th>\n",
       "      <th>description</th>\n",
       "      <th>deadline</th>\n",
       "      <th>assigned_to</th>\n",
       "      <th>status</th>\n",
       "      <th>priority</th>\n",
       "      <th>category</th>\n",
       "    </tr>\n",
       "  </thead>\n",
       "  <tbody>\n",
       "    <tr>\n",
       "      <th>0</th>\n",
       "      <td>T000</td>\n",
       "      <td>Fix login issue on mobile app</td>\n",
       "      <td>2025-07-20</td>\n",
       "      <td>Charlie</td>\n",
       "      <td>Open</td>\n",
       "      <td>High</td>\n",
       "      <td>Bug</td>\n",
       "    </tr>\n",
       "    <tr>\n",
       "      <th>1</th>\n",
       "      <td>T001</td>\n",
       "      <td>Page crashes when submitting form</td>\n",
       "      <td>2025-07-20</td>\n",
       "      <td>Alice</td>\n",
       "      <td>Done</td>\n",
       "      <td>Medium</td>\n",
       "      <td>Bug</td>\n",
       "    </tr>\n",
       "    <tr>\n",
       "      <th>2</th>\n",
       "      <td>T002</td>\n",
       "      <td>Fix login issue on mobile app</td>\n",
       "      <td>2025-07-28</td>\n",
       "      <td>Bob</td>\n",
       "      <td>Done</td>\n",
       "      <td>Medium</td>\n",
       "      <td>Bug</td>\n",
       "    </tr>\n",
       "    <tr>\n",
       "      <th>3</th>\n",
       "      <td>T003</td>\n",
       "      <td>Create user profile section</td>\n",
       "      <td>2025-07-21</td>\n",
       "      <td>Diana</td>\n",
       "      <td>Open</td>\n",
       "      <td>Medium</td>\n",
       "      <td>Feature</td>\n",
       "    </tr>\n",
       "    <tr>\n",
       "      <th>4</th>\n",
       "      <td>T004</td>\n",
       "      <td>Client call to discuss roadmap</td>\n",
       "      <td>2025-07-19</td>\n",
       "      <td>Bob</td>\n",
       "      <td>Done</td>\n",
       "      <td>Medium</td>\n",
       "      <td>Meeting</td>\n",
       "    </tr>\n",
       "  </tbody>\n",
       "</table>\n",
       "</div>"
      ],
      "text/plain": [
       "  task_id                        description   deadline assigned_to status  \\\n",
       "0    T000      Fix login issue on mobile app 2025-07-20     Charlie   Open   \n",
       "1    T001  Page crashes when submitting form 2025-07-20       Alice   Done   \n",
       "2    T002      Fix login issue on mobile app 2025-07-28         Bob   Done   \n",
       "3    T003        Create user profile section 2025-07-21       Diana   Open   \n",
       "4    T004     Client call to discuss roadmap 2025-07-19         Bob   Done   \n",
       "\n",
       "  priority category  \n",
       "0     High      Bug  \n",
       "1   Medium      Bug  \n",
       "2   Medium      Bug  \n",
       "3   Medium  Feature  \n",
       "4   Medium  Meeting  "
      ]
     },
     "execution_count": 2,
     "metadata": {},
     "output_type": "execute_result"
    }
   ],
   "source": [
    "# === 2. Generate Synthetic Dataset ===\n",
    "random.seed(42)\n",
    "\n",
    "users = [\"Alice\", \"Bob\", \"Charlie\", \"Diana\"]\n",
    "categories = [\"Bug\", \"Feature\", \"Meeting\", \"Documentation\"]\n",
    "priorities = [\"High\", \"Medium\", \"Low\"]\n",
    "statuses = [\"Open\", \"In Progress\", \"Done\"]\n",
    "\n",
    "descriptions = {\n",
    "    \"Bug\": [\n",
    "        \"Fix login issue on mobile app\",\n",
    "        \"Error in data export module\",\n",
    "        \"Page crashes when submitting form\"\n",
    "    ],\n",
    "    \"Feature\": [\n",
    "        \"Add dark mode to dashboard\",\n",
    "        \"Implement task reminder notification\",\n",
    "        \"Create user profile section\"\n",
    "    ],\n",
    "    \"Meeting\": [\n",
    "        \"Client call to discuss roadmap\",\n",
    "        \"Sprint planning session with team\",\n",
    "        \"Demo presentation preparation\"\n",
    "    ],\n",
    "    \"Documentation\": [\n",
    "        \"Update user guide for new features\",\n",
    "        \"Write API reference for devs\",\n",
    "        \"Document testing procedures\"\n",
    "    ]\n",
    "}\n",
    "\n",
    "def generate_task(id):\n",
    "    cat = random.choice(categories)\n",
    "    return {\n",
    "        \"task_id\": f\"T{id:03}\",\n",
    "        \"description\": random.choice(descriptions[cat]),\n",
    "        \"deadline\": pd.Timestamp(\"2025-08-01\") - pd.Timedelta(days=random.randint(1, 15)),\n",
    "        \"assigned_to\": random.choice(users),\n",
    "        \"status\": random.choice(statuses),\n",
    "        \"priority\": random.choices(priorities, weights=[0.3, 0.5, 0.2])[0],\n",
    "        \"category\": cat\n",
    "    }\n",
    "\n",
    "# Generate 100 tasks\n",
    "tasks = [generate_task(i) for i in range(100)]\n",
    "df = pd.DataFrame(tasks)\n",
    "\n",
    "# Save to CSV\n",
    "df.to_csv(\"../data/task_data.csv\", index=False)\n",
    "\n",
    "print(\"Sample data:\\n\")\n",
    "df.head()\n"
   ]
  },
  {
   "cell_type": "code",
   "execution_count": 3,
   "id": "720fc078",
   "metadata": {},
   "outputs": [
    {
     "name": "stdout",
     "output_type": "stream",
     "text": [
      "\n",
      "Category distribution:\n",
      " category\n",
      "Bug              29\n",
      "Meeting          27\n",
      "Feature          25\n",
      "Documentation    19\n",
      "Name: count, dtype: int64\n",
      "\n",
      "Priority distribution:\n",
      " priority\n",
      "Medium    46\n",
      "High      29\n",
      "Low       25\n",
      "Name: count, dtype: int64\n"
     ]
    },
    {
     "data": {
      "image/png": "[encoded data removed]",
      "text/plain": [
       "<Figure size 720x288 with 2 Axes>"
      ]
     },
     "metadata": {
      "needs_background": "light"
     },
     "output_type": "display_data"
    }
   ],
   "source": [
    "# === 3. Basic EDA ===\n",
    "\n",
    "print(\"\\nCategory distribution:\\n\", df[\"category\"].value_counts())\n",
    "print(\"\\nPriority distribution:\\n\", df[\"priority\"].value_counts())\n",
    "\n",
    "# Plot\n",
    "plt.figure(figsize=(10, 4))\n",
    "plt.subplot(1, 2, 1)\n",
    "sns.countplot(data=df, x=\"category\")\n",
    "plt.title(\"Task Categories\")\n",
    "\n",
    "plt.subplot(1, 2, 2)\n",
    "sns.countplot(data=df, x=\"priority\")\n",
    "plt.title(\"Task Priorities\")\n",
    "\n",
    "plt.tight_layout()\n",
    "plt.show()\n"
   ]
  },
  {
   "cell_type": "code",
   "execution_count": 4,
   "id": "7602339a",
   "metadata": {},
   "outputs": [
    {
     "name": "stdout",
     "output_type": "stream",
     "text": [
      "\n",
      "Sample cleaned text:\n",
      "\n"
     ]
    },
    {
     "data": {
      "text/html": [
       "<div>\n",
       "<style scoped>\n",
       "    .dataframe tbody tr th:only-of-type {\n",
       "        vertical-align: middle;\n",
       "    }\n",
       "\n",
       "    .dataframe tbody tr th {\n",
       "        vertical-align: top;\n",
       "    }\n",
       "\n",
       "    .dataframe thead th {\n",
       "        text-align: right;\n",
       "    }\n",
       "</style>\n",
       "<table border=\"1\" class=\"dataframe\">\n",
       "  <thead>\n",
       "    <tr style=\"text-align: right;\">\n",
       "      <th></th>\n",
       "      <th>description</th>\n",
       "      <th>clean_description</th>\n",
       "    </tr>\n",
       "  </thead>\n",
       "  <tbody>\n",
       "    <tr>\n",
       "      <th>0</th>\n",
       "      <td>Fix login issue on mobile app</td>\n",
       "      <td>fix login issu mobil app</td>\n",
       "    </tr>\n",
       "    <tr>\n",
       "      <th>1</th>\n",
       "      <td>Page crashes when submitting form</td>\n",
       "      <td>page crash submit form</td>\n",
       "    </tr>\n",
       "    <tr>\n",
       "      <th>2</th>\n",
       "      <td>Fix login issue on mobile app</td>\n",
       "      <td>fix login issu mobil app</td>\n",
       "    </tr>\n",
       "    <tr>\n",
       "      <th>3</th>\n",
       "      <td>Create user profile section</td>\n",
       "      <td>creat user profil section</td>\n",
       "    </tr>\n",
       "    <tr>\n",
       "      <th>4</th>\n",
       "      <td>Client call to discuss roadmap</td>\n",
       "      <td>client call discuss roadmap</td>\n",
       "    </tr>\n",
       "  </tbody>\n",
       "</table>\n",
       "</div>"
      ],
      "text/plain": [
       "                         description            clean_description\n",
       "0      Fix login issue on mobile app     fix login issu mobil app\n",
       "1  Page crashes when submitting form       page crash submit form\n",
       "2      Fix login issue on mobile app     fix login issu mobil app\n",
       "3        Create user profile section    creat user profil section\n",
       "4     Client call to discuss roadmap  client call discuss roadmap"
      ]
     },
     "execution_count": 4,
     "metadata": {},
     "output_type": "execute_result"
    }
   ],
   "source": [
    "# === 4. NLP Preprocessing ===\n",
    "\n",
    "stop_words = set(stopwords.words('english'))\n",
    "stemmer = PorterStemmer()\n",
    "\n",
    "def clean_text(text):\n",
    "    # Lowercase + remove non-alphabetic\n",
    "    text = re.sub(r'[^a-zA-Z\\s]', '', text.lower())\n",
    "    # Tokenize\n",
    "    tokens = word_tokenize(text)\n",
    "    # Remove stopwords + stem\n",
    "    filtered = [stemmer.stem(word) for word in tokens if word not in stop_words]\n",
    "    return ' '.join(filtered)\n",
    "\n",
    "df['clean_description'] = df['description'].apply(clean_text)\n",
    "\n",
    "# Save cleaned version\n",
    "df.to_csv(\"../data/cleaned_task_data.csv\", index=False)\n",
    "\n",
    "print(\"\\nSample cleaned text:\\n\")\n",
    "df[['description', 'clean_description']].head()\n"
   ]
  },
  {
   "cell_type": "code",
   "execution_count": null,
   "id": "a09e641c",
   "metadata": {},
   "outputs": [],
   "source": []
  },
  {
   "cell_type": "code",
   "execution_count": null,
   "id": "08bb28a1",
   "metadata": {},
   "outputs": [],
   "source": []
  }
 ],
 "metadata": {
  "kernelspec": {
   "display_name": "Python 3 (ipykernel)",
   "language": "python",
   "name": "python3"
  },
  "language_info": {
   "codemirror_mode": {
    "name": "ipython",
    "version": 3
   },
   "file_extension": ".py",
   "mimetype": "text/x-python",
   "name": "python",
   "nbconvert_exporter": "python",
   "pygments_lexer": "ipython3",
   "version": "3.9.12"
  }
 },
 "nbformat": 4,
 "nbformat_minor": 5
}
