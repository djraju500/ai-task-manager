{
 "cells": [
  {
   "cell_type": "code",
   "execution_count": 36,
   "id": "29a695f4",
   "metadata": {},
   "outputs": [],
   "source": [
    "# 📌 Generate Final Report\n",
    "\n",
    "import pandas as pd\n",
    "import matplotlib.pyplot as plt\n",
    "import seaborn as sns\n",
    "import os\n",
    "from fpdf import FPDF\n",
    "\n"
   ]
  },
  {
   "cell_type": "code",
   "execution_count": 42,
   "id": "8e4723aa",
   "metadata": {},
   "outputs": [
    {
     "name": "stderr",
     "output_type": "stream",
     "text": [
      "C:\\Users\\Admin\\AppData\\Local\\Temp\\ipykernel_4696\\2989150111.py:50: DeprecationWarning: \"uni\" parameter is deprecated since v2.5.1, unused and will soon be removed\n",
      "  pdf.add_font(\"DejaVu\", \"\", os.path.join(FONT_PATH, \"DejaVuSans.ttf\"), uni=True)\n",
      "C:\\Users\\Admin\\AppData\\Local\\Temp\\ipykernel_4696\\2989150111.py:51: DeprecationWarning: \"uni\" parameter is deprecated since v2.5.1, unused and will soon be removed\n",
      "  pdf.add_font(\"DejaVu\", \"B\", os.path.join(FONT_PATH, \"DejaVuSans-Bold.ttf\"), uni=True)\n",
      "C:\\Users\\Admin\\AppData\\Local\\Temp\\ipykernel_4696\\2989150111.py:55: DeprecationWarning: The parameter \"ln\" is deprecated since v2.5.2. Instead of ln=True use new_x=XPos.LMARGIN, new_y=YPos.NEXT.\n",
      "  pdf.cell(200, 10, \"📋 Task Management System Report\", ln=True, align=\"C\")\n",
      "C:\\Users\\Admin\\AppData\\Local\\Temp\\ipykernel_4696\\2989150111.py:60: DeprecationWarning: The parameter \"ln\" is deprecated since v2.5.2. Instead of ln=True use new_x=XPos.LMARGIN, new_y=YPos.NEXT.\n",
      "  pdf.cell(200, 10, f\"✅ Total Tasks: {len(df)}\", ln=True)\n",
      "C:\\Users\\Admin\\AppData\\Local\\Temp\\ipykernel_4696\\2989150111.py:61: DeprecationWarning: The parameter \"ln\" is deprecated since v2.5.2. Instead of ln=True use new_x=XPos.LMARGIN, new_y=YPos.NEXT.\n",
      "  pdf.cell(200, 10, f\"👤 Total Users: {df['assigned_to'].nunique()}\", ln=True)\n",
      "Font MPDFAA+DejaVuSansBook is missing the following glyphs: '✅' (\\u2705), '👤' (\\U0001f464)\n",
      "Font MPDFAA+DejaVuSansBold is missing the following glyphs: '📋' (\\U0001f4cb), '📝' (\\U0001f4dd), '📅' (\\U0001f4c5), '👤' (\\U0001f464)\n"
     ]
    },
    {
     "name": "stdout",
     "output_type": "stream",
     "text": [
      "\n",
      "✅ Report successfully generated: ../reports/final_report.pdf\n"
     ]
    }
   ],
   "source": [
    "# --------------------------------------------\n",
    "# 1. Load Data\n",
    "# --------------------------------------------\n",
    "df = pd.read_csv(\"../data/assigned_tasks.csv\")\n",
    "\n",
    "# Create necessary directories\n",
    "os.makedirs(\"../reports\", exist_ok=True)\n",
    "os.makedirs(\"../reports/figures\", exist_ok=True)\n",
    "\n",
    "# --------------------------------------------\n",
    "# 2. Generate and Save Charts\n",
    "# --------------------------------------------\n",
    "\n",
    "# Chart 1: Tasks per user\n",
    "plt.figure(figsize=(10, 5))\n",
    "user_task_counts = df['assigned_to'].value_counts()\n",
    "sns.barplot(x=user_task_counts.index, y=user_task_counts.values, palette='viridis')\n",
    "plt.xlabel('User')\n",
    "plt.ylabel('Number of Tasks')\n",
    "plt.title('Tasks Assigned per User')\n",
    "plt.xticks(rotation=45)\n",
    "plt.tight_layout()\n",
    "plt.savefig(\"../reports/figures/tasks_per_user.png\")\n",
    "plt.close()\n",
    "\n",
    "# Chart 2: Priority Pie\n",
    "plt.figure(figsize=(6, 6))\n",
    "priority_counts = df['predicted_priority'].value_counts()\n",
    "plt.pie(priority_counts, labels=priority_counts.index, autopct='%1.1f%%', startangle=140, colors=sns.color_palette('pastel'))\n",
    "plt.title('Task Priority Distribution')\n",
    "plt.tight_layout()\n",
    "plt.savefig(\"../reports/figures/priority_pie.png\")\n",
    "plt.close()\n",
    "\n",
    "# --------------------------------------------\n",
    "# 3. Generate PDF Report\n",
    "# --------------------------------------------\n",
    "FONT_PATH = r\"C:\\Users\\Admin\\ai_task_manager\\fonts\\DejaVuSans\\ttf\"\n",
    "\n",
    "pdf = FPDF()\n",
    "pdf.add_page()\n",
    "\n",
    "# Register Unicode fonts\n",
    "pdf.add_font(\"DejaVu\", \"\", os.path.join(FONT_PATH, \"DejaVuSans.ttf\"), uni=True)\n",
    "pdf.add_font(\"DejaVu\", \"B\", os.path.join(FONT_PATH, \"DejaVuSans-Bold.ttf\"), uni=True)\n",
    "\n",
    "# Title\n",
    "pdf.set_font(\"DejaVu\", \"B\", 16)\n",
    "pdf.cell(200, 10, \"📋 Task Management System Report\", ln=True, align=\"C\")\n",
    "\n",
    "# Summary\n",
    "pdf.set_font(\"DejaVu\", \"\", 12)\n",
    "pdf.ln(10)\n",
    "pdf.cell(200, 10, f\"✅ Total Tasks: {len(df)}\", ln=True)\n",
    "pdf.cell(200, 10, f\"👤 Total Users: {df['assigned_to'].nunique()}\", ln=True)\n",
    "\n",
    "# Charts\n",
    "pdf.ln(10)\n",
    "try:\n",
    "    pdf.image(\"../reports/figures/tasks_per_user.png\", w=160)\n",
    "    pdf.ln(10)\n",
    "    pdf.image(\"../reports/figures/priority_pie.png\", w=120)\n",
    "except:\n",
    "    pdf.cell(200, 10, \"⚠️ Chart images not found.\", ln=True)\n",
    "\n",
    "# Table Header\n",
    "pdf.ln(10)\n",
    "pdf.set_font(\"DejaVu\", \"B\", 11)\n",
    "pdf.cell(80, 10, \"📝 Task Description\", border=1)\n",
    "pdf.cell(40, 10, \"⚡ Priority\", border=1)\n",
    "pdf.cell(40, 10, \"📅 Deadline\", border=1)\n",
    "pdf.cell(30, 10, \"👤 Assigned To\", border=1)\n",
    "pdf.ln()\n",
    "\n",
    "# Table Rows\n",
    "pdf.set_font(\"DejaVu\", \"\", 10)\n",
    "for _, row in df.iterrows():\n",
    "    pdf.cell(80, 8, str(row['description'])[:40], border=1)\n",
    "    pdf.cell(40, 8, str(row['predicted_priority']), border=1)\n",
    "    pdf.cell(40, 8, str(row['deadline']), border=1)\n",
    "    pdf.cell(30, 8, str(row['assigned_to']), border=1)\n",
    "    pdf.ln()\n",
    "\n",
    "# Save PDF\n",
    "report_path = \"../reports/final_report.pdf\"\n",
    "pdf.output(report_path)\n",
    "\n",
    "print(f\"\\n✅ Report successfully generated: {report_path}\")\n"
   ]
  },
  {
   "cell_type": "code",
   "execution_count": 38,
   "id": "c80c7532",
   "metadata": {},
   "outputs": [
    {
     "name": "stdout",
     "output_type": "stream",
     "text": [
      "✅ Summary of Assigned Tasks:\n",
      "\n",
      "📊 Tasks per user:\n",
      " assigned_to\n",
      "Diana      28\n",
      "Bob        25\n",
      "Alice      24\n",
      "Charlie    23\n",
      "Name: count, dtype: int64\n",
      "\n",
      "🎯 Priority Distribution:\n",
      " predicted_priority\n",
      "Medium    93\n",
      "Low        7\n",
      "Name: count, dtype: int64\n",
      "\n",
      "🗓️ Deadlines:\n",
      " deadline\n",
      "2025-07-17    3\n",
      "2025-07-18    8\n",
      "2025-07-19    4\n",
      "2025-07-20    6\n",
      "2025-07-21    9\n",
      "Name: count, dtype: int64\n"
     ]
    }
   ],
   "source": [
    "# --------------------------------------------\n",
    "# 4. Summary Statistics\n",
    "# --------------------------------------------\n",
    "task_per_user = df['assigned_to'].value_counts()\n",
    "priority_dist = df['predicted_priority'].value_counts()\n",
    "deadline_dist = df['deadline'].value_counts().sort_index()\n",
    "\n",
    "print(\"✅ Summary of Assigned Tasks:\")\n",
    "print(\"\\n📊 Tasks per user:\\n\", task_per_user)\n",
    "print(\"\\n🎯 Priority Distribution:\\n\", priority_dist)\n",
    "print(\"\\n🗓️ Deadlines:\\n\", deadline_dist.head())\n",
    "\n"
   ]
  },
  {
   "cell_type": "code",
   "execution_count": null,
   "id": "1d57a27d",
   "metadata": {},
   "outputs": [],
   "source": [
    "\n"
   ]
  },
  {
   "cell_type": "code",
   "execution_count": null,
   "id": "d6fbe22a",
   "metadata": {},
   "outputs": [],
   "source": []
  }
 ],
 "metadata": {
  "kernelspec": {
   "display_name": "Python 3 (ipykernel)",
   "language": "python",
   "name": "python3"
  },
  "language_info": {
   "codemirror_mode": {
    "name": "ipython",
    "version": 3
   },
   "file_extension": ".py",
   "mimetype": "text/x-python",
   "name": "python",
   "nbconvert_exporter": "python",
   "pygments_lexer": "ipython3",
   "version": "3.9.12"
  }
 },
 "nbformat": 4,
 "nbformat_minor": 5
}
